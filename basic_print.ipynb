{
 "cells": [
  {
   "cell_type": "code",
   "execution_count": null,
   "id": "c01c991e-f1b7-4558-b1c9-4fe87bddfc47",
   "metadata": {
    "id": "99d62fee-78e8-46e4-863e-1051f19682df",
    "tags": []
   },
   "outputs": [],
   "source": [
    "print(\"wow\")"
   ]
  }
 ],
 "metadata": {
  "kernelspec": {
   "display_name": "Python 3.9",
   "language": "python",
   "name": "python3"
  },
  "language_info": {
   "codemirror_mode": {
    "name": "ipython",
    "version": 3
   },
   "file_extension": ".py",
   "mimetype": "text/x-python",
   "name": "python",
   "nbconvert_exporter": "python",
   "pygments_lexer": "ipython3",
   "version": "3.9.7"
  }
 },
 "nbformat": 4,
 "nbformat_minor": 5
}
