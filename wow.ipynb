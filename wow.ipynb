{
 "cells": [
  {
   "cell_type": "code",
   "execution_count": 1,
   "id": "cf555f11-9a9b-4119-a6c7-f4e4174ea567",
   "metadata": {
    "id": "70359b49-bd75-4d8c-af77-3784382d4f9a",
    "tags": []
   },
   "outputs": [
    {
     "name": "stdout",
     "output_type": "stream",
     "text": [
      "wow\n"
     ]
    }
   ],
   "source": [
    "print('wow')"
   ]
  },
  {
   "cell_type": "code",
   "execution_count": null,
   "id": "2007f967-82bc-42ec-85fa-a42ded9149f2",
   "metadata": {
    "id": "2007f967-82bc-42ec-85fa-a42ded9149f2"
   },
   "outputs": [],
   "source": []
  }
 ],
 "metadata": {
  "kernelspec": {
   "display_name": "Python 3.9",
   "language": "python",
   "name": "python3"
  },
  "language_info": {
   "codemirror_mode": {
    "name": "ipython",
    "version": 3
   },
   "file_extension": ".py",
   "mimetype": "text/x-python",
   "name": "python",
   "nbconvert_exporter": "python",
   "pygments_lexer": "ipython3",
   "version": "3.9.7"
  }
 },
 "nbformat": 4,
 "nbformat_minor": 5
}
